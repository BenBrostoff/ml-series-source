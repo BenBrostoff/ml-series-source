{
 "cells": [
  {
   "cell_type": "code",
   "execution_count": 1,
   "metadata": {
    "collapsed": true
   },
   "outputs": [],
   "source": [
    "import tensorflow as tf"
   ]
  },
  {
   "cell_type": "code",
   "execution_count": 2,
   "metadata": {
    "collapsed": false
   },
   "outputs": [
    {
     "name": "stdout",
     "output_type": "stream",
     "text": [
      "0.0\n"
     ]
    }
   ],
   "source": [
    "w = tf.Variable(0, dtype=tf.float32)\n",
    "\n",
    "# this function is minimized at 5,\n",
    "# and the expanded form of (x - 5) * ( x - 5)\n",
    "cost = w ** 2 - 10 * w + 25\n",
    "train = tf.train.GradientDescentOptimizer(0.01).minimize(cost)\n",
    "\n",
    "init = tf.global_variables_initializer()\n",
    "session = tf.Session() # construct computation graph\n",
    "session.run(init)\n",
    "print(session.run(w))"
   ]
  },
  {
   "cell_type": "code",
   "execution_count": 3,
   "metadata": {
    "collapsed": false
   },
   "outputs": [
    {
     "name": "stdout",
     "output_type": "stream",
     "text": [
      "First iteration 0.1\n",
      "Second iteration 0.198\n",
      "Third iteration 0.29404\n",
      "Fourth iteration 0.38815920000000004\n",
      "Fifth iteration 0.48039601600000004\n"
     ]
    }
   ],
   "source": [
    "# func -> x ** 2 - 10x + 25\n",
    "# derivative -> 2x - 10\n",
    "def derivative(x):\n",
    "    return 2 * x - 10\n",
    "\n",
    "small_number = 0.01\n",
    "first = -1 * derivative(0) * small_number\n",
    "print('First iteration', first)\n",
    "second = first - (1 * derivative(first)  * small_number)\n",
    "print('Second iteration', second)\n",
    "third = second - (1 * derivative(second)  * small_number)\n",
    "print('Third iteration', third)\n",
    "fourth = third - (1 * derivative(third)  * small_number)\n",
    "print('Fourth iteration', fourth)\n",
    "fifth = fourth - (1 * derivative(fourth)  * small_number)\n",
    "print('Fifth iteration', fifth)"
   ]
  },
  {
   "cell_type": "code",
   "execution_count": 7,
   "metadata": {
    "collapsed": false
   },
   "outputs": [
    {
     "name": "stdout",
     "output_type": "stream",
     "text": [
      "First iteration 0.1\n",
      "Second iteration 0.198\n",
      "Third iteration 0.29404\n",
      "Fourth iteration 0.38815920000000004\n",
      "Fifth iteration 0.48039601600000004\n"
     ]
    }
   ],
   "source": [
    "# func -> x ** 2 - 10x + 25\n",
    "# derivative -> 2x - 10\n",
    "def derivative(x):\n",
    "    return 2 * x - 10\n",
    "\n",
    "small_number = 0.01\n",
    "first = -1 * derivative(0) * small_number\n",
    "print('First iteration', first)\n",
    "second = first - (1 * derivative(first)  * small_number)\n",
    "print('Second iteration', second)\n",
    "third = second - (1 * derivative(second)  * small_number)\n",
    "print('Third iteration', third)\n",
    "fourth = third - (1 * derivative(third)  * small_number)\n",
    "print('Fourth iteration', fourth)\n",
    "fifth = fourth - (1 * derivative(fourth)  * small_number)\n",
    "print('Fifth iteration', fifth)"
   ]
  },
  {
   "cell_type": "code",
   "execution_count": 5,
   "metadata": {
    "collapsed": false
   },
   "outputs": [
    {
     "name": "stdout",
     "output_type": "stream",
     "text": [
      "First iteration 0.1\n",
      "Second iteration 0.198\n",
      "Third iteration 0.29404\n",
      "Fourth iteration 0.388159\n",
      "Fifth iteration 0.480396\n"
     ]
    }
   ],
   "source": [
    "session.run(train)\n",
    "print('First iteration', session.run(w))\n",
    "\n",
    "session.run(train)\n",
    "print('Second iteration', session.run(w))\n",
    "\n",
    "session.run(train)\n",
    "print('Third iteration', session.run(w))\n",
    "\n",
    "session.run(train)\n",
    "print('Fourth iteration', session.run(w))\n",
    "\n",
    "session.run(train)\n",
    "print('Fifth iteration', session.run(w))"
   ]
  },
  {
   "cell_type": "code",
   "execution_count": 8,
   "metadata": {
    "collapsed": false
   },
   "outputs": [
    {
     "name": "stdout",
     "output_type": "stream",
     "text": [
      "10,000 iterations 4.999999999999979\n",
      "100,000 iterations 4.999999999999979\n"
     ]
    }
   ],
   "source": [
    "w = 0\n",
    "for i in range(10000):\n",
    "    w = w - (1 * derivative(w)  * small_number)\n",
    "\n",
    "print('10,000 iterations', w)\n",
    "\n",
    "w = 0\n",
    "for i in range(100000):\n",
    "    w = w - (1 * derivative(w)  * small_number)\n",
    "    \n",
    "print('100,000 iterations', w)"
   ]
  },
  {
   "cell_type": "code",
   "execution_count": 26,
   "metadata": {
    "collapsed": false
   },
   "outputs": [
    {
     "name": "stdout",
     "output_type": "stream",
     "text": [
      "True\n",
      "True\n",
      "True\n"
     ]
    }
   ],
   "source": [
    "w = 0\n",
    "small_number = 1\n",
    "# First iteration\n",
    "w = 0 - (2 * 0 - 10) * 1\n",
    "print(w == 10)\n",
    "\n",
    "# Second iteration\n",
    "w = 10 - (2 * 10 - 10) * 1\n",
    "print(w == 0)\n",
    "\n",
    "# Third iteration\n",
    "w = 0 - (2 * 0 - 10) * 1\n",
    "print(w == 10)\n",
    "\n",
    "# and so on..."
   ]
  }
 ],
 "metadata": {
  "kernelspec": {
   "display_name": "Python 3",
   "language": "python",
   "name": "python3"
  },
  "language_info": {
   "codemirror_mode": {
    "name": "ipython",
    "version": 3
   },
   "file_extension": ".py",
   "mimetype": "text/x-python",
   "name": "python",
   "nbconvert_exporter": "python",
   "pygments_lexer": "ipython3",
   "version": "3.6.0"
  }
 },
 "nbformat": 4,
 "nbformat_minor": 2
}
