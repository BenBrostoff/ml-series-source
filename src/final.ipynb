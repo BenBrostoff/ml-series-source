{
 "cells": [
  {
   "cell_type": "code",
   "execution_count": 1,
   "metadata": {
    "collapsed": true
   },
   "outputs": [],
   "source": [
    "import numpy as np"
   ]
  },
  {
   "cell_type": "code",
   "execution_count": 12,
   "metadata": {
    "collapsed": false
   },
   "outputs": [],
   "source": [
    "training_set_inputs = np.array([\n",
    "    [0, 0, 1], # labeled 0\n",
    "    [1, 1, 1], # labeled 1\n",
    "    [1, 0, 1], # labeled 1\n",
    "    [0, 1, 1]],# labeled 0\n",
    ")\n",
    "\n",
    "# below is same as np.array([0, 1, 1, 0]).T\n",
    "training_set_outputs = np.array([\n",
    "    [0], \n",
    "    [1], \n",
    "    [1], \n",
    "    [0]]\n",
    ")\n",
    "\n",
    "for i, t in enumerate(training_set_inputs):\n",
    "    if t[0] == 0:\n",
    "        assert(training_set_outputs[i][0] == 0)\n",
    "    else:\n",
    "        assert(training_set_outputs[i][0] == 1)"
   ]
  },
  {
   "cell_type": "code",
   "execution_count": 44,
   "metadata": {
    "collapsed": false
   },
   "outputs": [
    {
     "name": "stdout",
     "output_type": "stream",
     "text": [
      "[[-0.16595599]\n",
      " [ 0.44064899]\n",
      " [-0.99977125]]\n"
     ]
    }
   ],
   "source": [
    "np.random.seed(1)\n",
    "weights = 2 * np.random.random((3, 1)) - 1\n",
    "print(weights)"
   ]
  },
  {
   "cell_type": "code",
   "execution_count": 45,
   "metadata": {
    "collapsed": false
   },
   "outputs": [
    {
     "name": "stdout",
     "output_type": "stream",
     "text": [
      "(4, 3)\n",
      "[[-0.16595599]\n",
      " [ 0.44064899]\n",
      " [-0.99977125]]\n",
      "[[-0.99977125]\n",
      " [-0.72507825]\n",
      " [-1.16572724]\n",
      " [-0.55912226]]\n",
      "(4, 1)\n",
      "Ending weights [[ 0.12025406]\n",
      " [ 0.50456196]\n",
      " [-0.85063774]]\n"
     ]
    }
   ],
   "source": [
    "def sigmoid(x):\n",
    "    return 1 / (1 + np.exp(-x))\n",
    "    \n",
    "def deriv_sigmoid(x):\n",
    "    # A little misleading - derivative is actually\n",
    "    # sigmoid(x) * (1 - sigmoid(x))\n",
    "    # but x here is preprocessed as sigmoid x\n",
    "    # See http://kawahara.ca/how-to-compute-the-derivative-of-a-sigmoid-function-fully-worked-example/\n",
    "    return x * (1 - x)\n",
    "\n",
    "for iteration in range(1):\n",
    "    # make a random prediction\n",
    "    print(training_set_inputs.shape)\n",
    "    print(weights)\n",
    "    first_layer = np.dot(training_set_inputs, weights)\n",
    "    print(first_layer)\n",
    "    print(first_layer.shape)\n",
    "\n",
    "    # non linearity applied - convert numbers to probabilities - scale the random predictions\n",
    "    # forward prop\n",
    "    predictions = sigmoid(first_layer)\n",
    "    \n",
    "    # get the error\n",
    "    error = training_set_outputs - predictions\n",
    "    \n",
    "    # Scale the low confidence predictions (close to 0 predictions) bby the error\n",
    "    # Conversely, do nothing to the high confidence predictions\n",
    "    # if close to 0.5, deriv_sigmoid maxes out\n",
    "    deriv = deriv_sigmoid(predictions)\n",
    "    error_weighted_derivative = error * deriv\n",
    "    weight_update = np.dot(training_set_inputs.T, error_weighted_derivative)\n",
    "    weights += weight_update\n",
    "\n",
    "print('Ending weights', weights)\n",
    "[[-0.99977125], [-0.72507825], [-1.16572724], [-0.55912226]]"
   ]
  },
  {
   "cell_type": "code",
   "execution_count": null,
   "metadata": {
    "collapsed": true
   },
   "outputs": [],
   "source": []
  },
  {
   "cell_type": "code",
   "execution_count": 30,
   "metadata": {
    "collapsed": false
   },
   "outputs": [
    {
     "data": {
      "text/plain": [
       "0.2746929962894642"
      ]
     },
     "execution_count": 30,
     "metadata": {},
     "output_type": "execute_result"
    }
   ],
   "source": [
    "def predict(weights, test):\n",
    "    w1, w2, w3 = np.ndarray.flatten(weights)\n",
    "    s1, s2, s3 = test\n",
    "    return w1 * s2 + w2 * s2 + w3 * s3\n",
    "\n",
    "predict(weights, [1, 1, 0])"
   ]
  }
 ],
 "metadata": {
  "kernelspec": {
   "display_name": "Python 3",
   "language": "python",
   "name": "python3"
  },
  "language_info": {
   "codemirror_mode": {
    "name": "ipython",
    "version": 3
   },
   "file_extension": ".py",
   "mimetype": "text/x-python",
   "name": "python",
   "nbconvert_exporter": "python",
   "pygments_lexer": "ipython3",
   "version": "3.6.0"
  }
 },
 "nbformat": 4,
 "nbformat_minor": 2
}
