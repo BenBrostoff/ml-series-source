{
 "cells": [
  {
   "cell_type": "code",
   "execution_count": 86,
   "metadata": {
    "collapsed": true
   },
   "outputs": [],
   "source": [
    "import tensorflow as tf"
   ]
  },
  {
   "cell_type": "code",
   "execution_count": 90,
   "metadata": {},
   "outputs": [
    {
     "name": "stdout",
     "output_type": "stream",
     "text": [
      "0.0\n"
     ]
    }
   ],
   "source": [
    "w = tf.Variable(0, dtype=tf.float32)\n",
    "\n",
    "# this function is minimized at 9,\n",
    "# and the expanded form of (x - 9) * ( x - 9)\n",
    "cost = w ** 2 - 10 * w + 25\n",
    "train = tf.train.GradientDescentOptimizer(0.01).minimize(cost)\n",
    "\n",
    "init = tf.global_variables_initializer()\n",
    "session = tf.Session() # construct computation graph\n",
    "session.run(init)\n",
    "print(session.run(w))"
   ]
  },
  {
   "cell_type": "code",
   "execution_count": 88,
   "metadata": {},
   "outputs": [
    {
     "name": "stdout",
     "output_type": "stream",
     "text": [
      "('First iteration', 0.1)\n",
      "('Second iteration', 0.198)\n",
      "('Third iteration', 0.29404)\n",
      "('Fourth iteration', 0.38815920000000004)\n",
      "('Fifth iteration', 0.48039601600000004)\n"
     ]
    }
   ],
   "source": [
    "# func -> x ** 2 - 5x + 25\n",
    "# derivative -> 2x - 10\n",
    "def derivative(x):\n",
    "    return 2 * x - 10\n",
    "\n",
    "first = -1 * derivative(0) * .01\n",
    "print('First iteration', first)\n",
    "second = first - (1 * derivative(first)  * 0.01)\n",
    "print('Second iteration', second)\n",
    "third = second - (1 * derivative(second)  * 0.01)\n",
    "print('Third iteration', third)\n",
    "fourth = third - (1 * derivative(third)  * 0.01)\n",
    "print('Fourth iteration', fourth)\n",
    "fifth = fourth - (1 * derivative(fourth)  * 0.01)\n",
    "print('Fifth iteration', fifth)"
   ]
  },
  {
   "cell_type": "code",
   "execution_count": 91,
   "metadata": {},
   "outputs": [
    {
     "name": "stdout",
     "output_type": "stream",
     "text": [
      "('First iteration', 0.099999994)\n",
      "('Second iteration', 0.19799998)\n",
      "('Third iteration', 0.29403996)\n",
      "('Fourth iteration', 0.38815916)\n",
      "('Fifth iteration', 0.48039597)\n"
     ]
    }
   ],
   "source": [
    "session.run(train)\n",
    "print('First iteration', session.run(w))\n",
    "\n",
    "session.run(train)\n",
    "print('Second iteration', session.run(w))\n",
    "\n",
    "session.run(train)\n",
    "print('Third iteration', session.run(w))\n",
    "\n",
    "session.run(train)\n",
    "print('Fourth iteration', session.run(w))\n",
    "\n",
    "session.run(train)\n",
    "print('Fifth iteration', session.run(w))"
   ]
  },
  {
   "cell_type": "code",
   "execution_count": 97,
   "metadata": {},
   "outputs": [
    {
     "name": "stdout",
     "output_type": "stream",
     "text": [
      "5.0\n"
     ]
    }
   ],
   "source": [
    "# generalize non TF implementation above\n",
    "w = 0\n",
    "for i in range(10000):\n",
    "    w = w - (1 * derivative(w)  * 0.01)\n",
    "\n",
    "print(w)"
   ]
  },
  {
   "cell_type": "code",
   "execution_count": 92,
   "metadata": {},
   "outputs": [
    {
     "name": "stdout",
     "output_type": "stream",
     "text": [
      "4.99999\n"
     ]
    }
   ],
   "source": [
    "for i in range(10000):\n",
    "    session.run(train)\n",
    "    \n",
    "print(session.run(w))"
   ]
  }
 ],
 "metadata": {
  "kernelspec": {
   "display_name": "Python 2",
   "language": "python",
   "name": "python2"
  },
  "language_info": {
   "codemirror_mode": {
    "name": "ipython",
    "version": 2
   },
   "file_extension": ".py",
   "mimetype": "text/x-python",
   "name": "python",
   "nbconvert_exporter": "python",
   "pygments_lexer": "ipython2",
   "version": "2.7.13"
  }
 },
 "nbformat": 4,
 "nbformat_minor": 2
}
