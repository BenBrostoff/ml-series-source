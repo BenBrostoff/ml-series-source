{
 "cells": [
  {
   "cell_type": "code",
   "execution_count": 135,
   "metadata": {},
   "outputs": [],
   "source": [
    "import numpy as np\n",
    "from collections import Counter\n",
    "np.random.seed(1)"
   ]
  },
  {
   "cell_type": "code",
   "execution_count": 175,
   "metadata": {},
   "outputs": [
    {
     "name": "stdout",
     "output_type": "stream",
     "text": [
      "Generated 10000 players (Counter({1: 7290, 0: 2710}))\n",
      "[ 0.575  0.35   0.625]\n",
      "1\n",
      "[ 23.  14.  25.]\n",
      "[ 0.125  0.775  0.8  ]\n",
      "1\n",
      "[  5.  31.  32.]\n"
     ]
    }
   ],
   "source": [
    "# [hr, steals, age]\n",
    "# in our constructed example, over 20 HR or 20 steals is an all-star\n",
    "# age is an irrelevant dimension\n",
    "balanced_all_star = np.array([40, 20, 21])\n",
    "average = np.array([20, 5, 28])\n",
    "hr_all_star = np.array([50, 1, 28])\n",
    "bench = np.array([1, 7, 22])\n",
    "almost = np.array([19, 19, 23])\n",
    "steals_all_star = np.array([0, 100, 26])\n",
    "\n",
    "players = np.array([balanced_all_star, average, hr_all_star, bench, almost, steals_all_star]) / 100.\n",
    "actual_labels = np.array([1, 0, 1, 0, 0, 1])\n",
    "\n",
    "\n",
    "# generate lots of players based on rules\n",
    "more_players = []\n",
    "more_labels = []\n",
    "def classify(p):\n",
    "    hr, steals, age = p\n",
    "    if hr > 20 or steals > 20:\n",
    "        return 1\n",
    "    return 0\n",
    "\n",
    "for i in range(10000):\n",
    "    player = np.random.randint(40, size=(3,))\n",
    "    more_players.append(player)\n",
    "    more_labels.append(classify(player))\n",
    "    \n",
    "print('Generated {} players ({})'.format(len(more_players), Counter(more_labels)))\n",
    "\n",
    "normalized_players = np.array([p / 40. for p in more_players])\n",
    "print(normalized_players[0])\n",
    "print(more_labels[0])\n",
    "print(normalized_players[0] * 40)\n",
    "\n",
    "print(normalized_players[3])\n",
    "print(more_labels[3])\n",
    "print(normalized_players[3] * 40)"
   ]
  },
  {
   "cell_type": "code",
   "execution_count": 261,
   "metadata": {},
   "outputs": [],
   "source": [
    "def sigmoid(x):\n",
    "    return 1 / (1 + np.exp(-x))\n",
    "    \n",
    "def deriv_sigmoid(x):\n",
    "    return x * (1 - x)\n",
    "\n",
    "class NN(object):\n",
    "    def __init__(self, training, labels):\n",
    "        self.training = training\n",
    "        self.labels = labels\n",
    "        self.weights = np.random.rand(3)\n",
    "        \n",
    "    def predict(self, input):\n",
    "        return sigmoid(np.dot(input, self.weights))\n",
    "    \n",
    "    def train(self, iterations):\n",
    "        error = None\n",
    "        for i in range(iterations):\n",
    "            output_labels = self.predict(self.training)\n",
    "            error = self.labels - output_labels\n",
    "            # gradient descent\n",
    "            nudge = np.dot(self.training.T, error * deriv_sigmoid(output_labels))\n",
    "            self.weights += nudge\n",
    "        \n",
    "        print('Error', error)\n",
    "    \n",
    "    def print_accuracy(self):\n",
    "        output_labels = self.predict(self.training)\n",
    "        correct = 0\n",
    "        for i, l in enumerate(output_labels):\n",
    "            if l == self.labels[i]:\n",
    "                correct += 1\n",
    "        \n",
    "        return round(correct / float(len(self.labels)), 2)\n",
    "            \n",
    "        "
   ]
  },
  {
   "cell_type": "code",
   "execution_count": 266,
   "metadata": {},
   "outputs": [
    {
     "name": "stdout",
     "output_type": "stream",
     "text": [
      "[ 0.97596911  0.84524188  0.83268899]\n"
     ]
    }
   ],
   "source": [
    "nn = NN(normalized_players, )\n",
    "print(nn.weights)\n",
    "# we know age should be 0 and steals and HR should have some positive weight"
   ]
  }
 ],
 "metadata": {
  "kernelspec": {
   "display_name": "Python 2",
   "language": "python",
   "name": "python2"
  },
  "language_info": {
   "codemirror_mode": {
    "name": "ipython",
    "version": 2
   },
   "file_extension": ".py",
   "mimetype": "text/x-python",
   "name": "python",
   "nbconvert_exporter": "python",
   "pygments_lexer": "ipython2",
   "version": "2.7.13"
  }
 },
 "nbformat": 4,
 "nbformat_minor": 2
}
