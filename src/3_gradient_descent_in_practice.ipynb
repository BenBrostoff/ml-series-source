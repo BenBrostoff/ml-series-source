{
 "cells": [
  {
   "cell_type": "code",
   "execution_count": 1,
   "metadata": {
    "collapsed": true
   },
   "outputs": [],
   "source": [
    "import numpy as np\n",
    "from collections import Counter\n",
    "np.random.seed(1)"
   ]
  },
  {
   "cell_type": "code",
   "execution_count": 494,
   "metadata": {
    "collapsed": true
   },
   "outputs": [],
   "source": [
    "PLAYER_POOL = 100\n",
    "DIMENSIONS = 10"
   ]
  },
  {
   "cell_type": "code",
   "execution_count": 495,
   "metadata": {},
   "outputs": [
    {
     "name": "stdout",
     "output_type": "stream",
     "text": [
      "Generated 100 players (Counter({1: 55, 0: 45}))\n",
      "('Normalized example', array([ 0.39,  0.24,  0.86,  0.15,  0.27,  0.47,  0.75,  0.22,  0.41,  0.31]))\n",
      "('Label', 1)\n",
      "('Actual example', array([ 39.,  24.,  86.,  15.,  27.,  47.,  75.,  22.,  41.,  31.]))\n"
     ]
    }
   ],
   "source": [
    "# [hr, steals, age]\n",
    "# in our constructed example, over 20 HR or 20 steals is an all-star\n",
    "\n",
    "# generate lots of players based on rules\n",
    "players = []\n",
    "labels = []\n",
    "def classify(p):\n",
    "    hr = p[0]\n",
    "    steals = p[1] \n",
    "    ks = p[2]\n",
    "    def_rating = p[3]\n",
    "    marketability = p[4]\n",
    "    clubhouse = p[7]\n",
    "    \n",
    "    if hr > 50:\n",
    "        return 1\n",
    "#     if def_rating > 61:\n",
    "#         return 1\n",
    "#     if marketability > 90:\n",
    "#         return 1\n",
    "#     if clubhouse < 10:\n",
    "#         return 0\n",
    "    \n",
    "    return 0\n",
    "\n",
    "\n",
    "for i in range(PLAYER_POOL):\n",
    "    player = np.random.randint(100, size=(DIMENSIONS,))\n",
    "    players.append(player)\n",
    "    labels.append(classify(player))\n",
    "    \n",
    "print('Generated {} players ({})'.format(len(players), Counter(labels)))\n",
    "\n",
    "normalized_players = np.array([p / 100. for p in players])\n",
    "labels = np.array([labels])\n",
    "\n",
    "print('Normalized example', normalized_players[0])\n",
    "print('Label', more_labels[0])\n",
    "print('Actual example', normalized_players[0] * 100.)"
   ]
  },
  {
   "cell_type": "code",
   "execution_count": 496,
   "metadata": {
    "collapsed": true
   },
   "outputs": [],
   "source": [
    "def sigmoid(x):\n",
    "    return 1 / (1 + np.exp(-x))\n",
    "    \n",
    "def deriv_sigmoid(x):\n",
    "    return x * (1 - x)\n",
    "\n",
    "class NN(object):\n",
    "    def __init__(self, training, labels, weights):\n",
    "        self.training = training\n",
    "        self.labels = labels\n",
    "        self.weights = weights\n",
    "        \n",
    "    def predict(self):\n",
    "        return sigmoid(np.dot(self.training, self.weights))\n",
    "    \n",
    "    def train(self, iterations, print_every=100):\n",
    "        error = None\n",
    "        i = None\n",
    "        for i in range(iterations):\n",
    "            output_labels = self.predict()\n",
    "            error = self.labels - output_labels\n",
    "            # gradient descent\n",
    "            nudge = np.dot(self.training.T, error * deriv_sigmoid(output_labels))\n",
    "            self.weights += nudge\n",
    "            if i % print_every == 0:\n",
    "                print('Accuracy on iteration {}'.format(i), self.get_accuracy())\n",
    "            \n",
    "            \n",
    "    def get_accuracy(self):\n",
    "        output_labels = self.predict()\n",
    "        correct = 0\n",
    "        for idx, l in enumerate(output_labels):\n",
    "            if l[0] > 0.5:\n",
    "                prediction = 1\n",
    "            else:\n",
    "                prediction = 0\n",
    "            # print('My predicition is {}'.format(prediction))\n",
    "            # print('The correct is {}'.format(self.labels[idx][0]))\n",
    "            if prediction == self.labels[idx][0]:\n",
    "                correct += 1\n",
    "        \n",
    "        return round(correct / float(len(self.labels)), 2)\n",
    "            \n",
    "        "
   ]
  },
  {
   "cell_type": "code",
   "execution_count": 513,
   "metadata": {},
   "outputs": [
    {
     "name": "stdout",
     "output_type": "stream",
     "text": [
      "('Accuracy on iteration 0', 0.55)\n",
      "('Accuracy on iteration 1', 0.55)\n",
      "('Accuracy on iteration 2', 0.7)\n",
      "('Accuracy on iteration 3', 0.45)\n",
      "('Accuracy on iteration 4', 0.45)\n",
      "('Accuracy on iteration 5', 0.45)\n",
      "('Accuracy on iteration 6', 0.45)\n",
      "('Accuracy on iteration 7', 0.47)\n",
      "('Accuracy on iteration 8', 0.55)\n",
      "('Accuracy on iteration 9', 0.55)\n",
      "('Accuracy on iteration 10', 0.56)\n",
      "('Accuracy on iteration 11', 0.63)\n",
      "('Accuracy on iteration 12', 0.46)\n",
      "('Accuracy on iteration 13', 0.81)\n",
      "('Accuracy on iteration 14', 0.6)\n",
      "('Accuracy on iteration 15', 0.74)\n",
      "('Accuracy on iteration 16', 0.58)\n",
      "('Accuracy on iteration 17', 0.81)\n",
      "('Accuracy on iteration 18', 0.83)\n",
      "('Accuracy on iteration 19', 0.81)\n",
      "('Accuracy on iteration 20', 0.72)\n",
      "('Accuracy on iteration 21', 0.63)\n",
      "('Accuracy on iteration 22', 0.86)\n",
      "('Accuracy on iteration 23', 0.83)\n",
      "('Accuracy on iteration 24', 0.82)\n",
      "('Accuracy on iteration 25', 0.76)\n",
      "('Accuracy on iteration 26', 0.82)\n",
      "('Accuracy on iteration 27', 0.78)\n",
      "('Accuracy on iteration 28', 0.84)\n",
      "('Accuracy on iteration 29', 0.82)\n"
     ]
    }
   ],
   "source": [
    "assert(normalized_players.shape[0] == PLAYER_POOL)\n",
    "assert(labels.T.shape[0] == PLAYER_POOL)\n",
    "nn = NN(normalized_players, labels.T, 2 * random.random((DIMENSIONS, 1)) - 1)\n",
    "\n",
    "\n",
    "nn.train(30, print_every=1)\n",
    "        \n"
   ]
  },
  {
   "cell_type": "code",
   "execution_count": 444,
   "metadata": {},
   "outputs": [
    {
     "name": "stdout",
     "output_type": "stream",
     "text": [
      "('Training input', (4, 3))\n",
      "('Training output', (4, 1))\n",
      "('Weights', (3, 1))\n",
      "('N', (3, 1))\n",
      "(4, 1)\n",
      "[ 0.99993704]\n"
     ]
    }
   ],
   "source": [
    "# Working example via \n",
    "# https://medium.com/technology-invention-and-more/\n",
    "# how-to-build-a-simple-neural-network-in-9-lines-of-python-code-cc8f23647ca1\n",
    "from numpy import exp, array, random, dot\n",
    "training_set_inputs = array([[0, 0, 1], [1, 1, 1], [1, 0, 1], [0, 1, 1]])\n",
    "print('Training input', training_set_inputs.shape)\n",
    "training_set_outputs = array([[0, 1, 1, 0]]).T\n",
    "print('Training output', training_set_outputs.shape)\n",
    "random.seed(1)\n",
    "synaptic_weights = 2 * random.random((3, 1)) - 1\n",
    "print('Weights', synaptic_weights.shape)\n",
    "for iteration in xrange(10000):\n",
    "    output = 1 / (1 + exp(-(dot(training_set_inputs, synaptic_weights))))\n",
    "    nudge = dot(training_set_inputs.T, (training_set_outputs - output) * output * (1 - output))\n",
    "    synaptic_weights += nudge\n",
    "\n",
    "print('N',nudge.shape)\n",
    "\n",
    "print(output.shape)\n",
    "\n",
    "print 1 / (1 + exp(-(dot(array([1, 0, 0]), synaptic_weights))))"
   ]
  },
  {
   "cell_type": "code",
   "execution_count": null,
   "metadata": {
    "collapsed": true
   },
   "outputs": [],
   "source": []
  }
 ],
 "metadata": {
  "kernelspec": {
   "display_name": "Python 2",
   "language": "python",
   "name": "python2"
  },
  "language_info": {
   "codemirror_mode": {
    "name": "ipython",
    "version": 2
   },
   "file_extension": ".py",
   "mimetype": "text/x-python",
   "name": "python",
   "nbconvert_exporter": "python",
   "pygments_lexer": "ipython2",
   "version": "2.7.13"
  }
 },
 "nbformat": 4,
 "nbformat_minor": 2
}
